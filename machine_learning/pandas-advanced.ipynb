{
 "cells": [
  {
   "cell_type": "markdown",
   "metadata": {},
   "source": [
    "# Modifying Dataframe\n",
    "\n",
    "pandas에서는 이미 존재하는 dataframe에 새로운 column과 그에 해당하는 값을 추가할 수 있다. "
   ]
  },
  {
   "cell_type": "code",
   "execution_count": 1,
   "metadata": {},
   "outputs": [
    {
     "name": "stdout",
     "output_type": "stream",
     "text": [
      "        coffee  price($)  calories(kcal)        from\n",
      "0     Espresso       1.5              10  Costa rica\n",
      "1    Americano       2.5              15    Ethiopia\n",
      "2  Caffe Latte       3.0             100       Kenya\n",
      "3    Cappucino       3.0             130     Equador\n"
     ]
    }
   ],
   "source": [
    "import pandas as pd\n",
    "\n",
    "menus = pd.read_csv('menus.csv')\n",
    "menus['from'] = ['Costa rica', 'Ethiopia', 'Kenya', 'Equador']\n",
    "\n",
    "print(menus)"
   ]
  },
  {
   "cell_type": "markdown",
   "metadata": {},
   "source": [
    "또한 lambda function을 이용하여 각 cell의 값들을 연산할 수도 있다."
   ]
  },
  {
   "cell_type": "code",
   "execution_count": 2,
   "metadata": {
    "scrolled": true
   },
   "outputs": [
    {
     "name": "stdout",
     "output_type": "stream",
     "text": [
      "               Name                    Email First name     Email provider\n",
      "0        Tony Stark   tony@starkindustry.com       Tony  starkindustry.com\n",
      "1      Bruce Banner      dr.bruce@hulk.green      Bruce         hulk.green\n",
      "2      Thor Odinson        Thor@avengers.com       Thor       avengers.com\n",
      "3     Steven Rogers     captain@avengers.com     Steven       avengers.com\n",
      "4  Natasha Romanoff  blackwidow@avengers.com    Natasha       avengers.com\n"
     ]
    }
   ],
   "source": [
    "emails = pd.read_csv('customer-email.csv')\n",
    "\n",
    "emails['First name'] = emails.Name.apply(\n",
    "    lambda x: x.split()[0]\n",
    ")\n",
    "emails['Email provider'] = emails.Email.apply(\n",
    "    lambda x: x.split('@')[-1]\n",
    ")\n",
    "print(emails)"
   ]
  },
  {
   "cell_type": "markdown",
   "metadata": {},
   "source": [
    "lambda function은 `lambda x: [OUTCOME IF TRUE] if [CONDITIONAL] else [OUTCOME IF FALSE]`와 같은 syntax로 작성할 수 있다. \n",
    "이를 이용해 조금 더 복잡한 연산들도 처리가 가능하다."
   ]
  },
  {
   "cell_type": "code",
   "execution_count": 3,
   "metadata": {
    "scrolled": false
   },
   "outputs": [
    {
     "name": "stdout",
     "output_type": "stream",
     "text": [
      "        coffee  price($)  calories(kcal)        from is_tax_included  \\\n",
      "0     Espresso       1.5              10  Costa rica             Yes   \n",
      "1    Americano       2.5              15    Ethiopia              No   \n",
      "2  Caffe Latte       3.0             100       Kenya             Yes   \n",
      "3    Cappucino       3.0             130     Equador             Yes   \n",
      "\n",
      "   total_price  \n",
      "0       1.5000  \n",
      "1       2.6875  \n",
      "2       3.0000  \n",
      "3       3.0000  \n"
     ]
    }
   ],
   "source": [
    "menus['is_tax_included'] = ['Yes', 'No', 'Yes', 'Yes']\n",
    "menus['total_price'] = menus.apply(lambda row: row['price($)'] * 1.075\\\n",
    "            if row['is_tax_included'] == 'No'\\\n",
    "            else row['price($)'], \n",
    "            axis=1)\n",
    "\n",
    "print(menus)"
   ]
  },
  {
   "cell_type": "markdown",
   "metadata": {},
   "source": [
    "# Aggregates in Pandas\n",
    "\n",
    "pandas에서는 아래와 같은 common statistics command를 제공한다.\n",
    "\n",
    "|Command|Description|\n",
    "|---|---|\n",
    "|mean|Average of all values|\n",
    "|std|Standard deviation|\n",
    "|median|median|\n",
    "|max|Maximum value in column|\n",
    "|min|Minimum value in column|\n",
    "|count|Number of values in column|\n",
    "|nunique|Number of unique values in column|\n",
    "|unique|List of unique values in column|\n",
    "\n",
    "`.groupby()` method를 이용하면 loop를 돌리지 않고 특정한 column값 들의 statistics value 또는 사용자 정의 함수의 결과를 얻을 수 있다.\n",
    "\n",
    "일반적으로 `df.grouby('column1').column2.measurement`의 syntax로 쓰며 \n",
    "`measurement`에는 lambda function등 적용하고 싶은 함수를 인자로 넣을 수 있다.\n",
    "\n",
    "[pandas groupby](https://pandas.pydata.org/pandas-docs/stable/reference/api/pandas.DataFrame.groupby.html#pandas.DataFrame.groupby)"
   ]
  },
  {
   "cell_type": "markdown",
   "metadata": {},
   "source": [
    "# Multiple Dataframes\n",
    "\n",
    "RDB에서처럼 tabular data를 다룰 때 모든 정보를 하나의 table에 store하는 것은 inefficient하다.\n",
    "\n",
    "예를 들어, 한 온라인 쇼핑몰 서비스에서 `order_id`, `customer_id`, `customer_name`, `customer_address`, `customer_phone_number`, `item_id`, `item_description`, `item_price`, `qunatity`, `timestamp` 전부를 하나의 table에 store하고 있다고 생각해보자.\n",
    "만약, 한 명의 고객이 여러 상품을 주문한다고 하면 customer의 정보, 즉 id, name, address, phone_number는 불필요하게 반복된다.\n",
    "이렇게 되면 table의 size는 필요 이상으로 커지며 관리하기가 어려워진다.\n",
    "\n",
    "따라서 위의 table을 목적에 맞게 분리하는 것이 중요하다. \n",
    "\n",
    "- **orders**라는 table에 `order_id`, `customer_id`, `item_id`, `quantity`, `timestamp`를\n",
    "- **items**라는 table에 `item_id`, `item_description`, `item_price`를 \n",
    "- **customers**라는 table에 `customer_id`, `customer_name`, `customer_address`, `customer_phone_number`를 \n",
    "\n",
    "저장한다면, 보다 효율적으로 data를 관리할 수 있을 것이다.\n",
    "\n",
    "한편 pandas에서는 `merge()`를 이용해 서로 다른 두 dataframe을 merge 할 수 있다. \n",
    "그 종류에는 inner merge, outer merge, left and right merge등이 있으며 `how`라는 인자에 keyword를 pass해 적용시킬 수 있다.\n",
    "\n",
    "[pandas merge](https://pandas.pydata.org/pandas-docs/stable/reference/api/pandas.DataFrame.merge.html)"
   ]
  }
 ],
 "metadata": {
  "kernelspec": {
   "display_name": "Python 3",
   "language": "python",
   "name": "python3"
  },
  "language_info": {
   "codemirror_mode": {
    "name": "ipython",
    "version": 3
   },
   "file_extension": ".py",
   "mimetype": "text/x-python",
   "name": "python",
   "nbconvert_exporter": "python",
   "pygments_lexer": "ipython3",
   "version": "3.7.1"
  }
 },
 "nbformat": 4,
 "nbformat_minor": 2
}
