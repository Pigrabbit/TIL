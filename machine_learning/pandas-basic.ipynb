{
 "cells": [
  {
   "cell_type": "markdown",
   "metadata": {},
   "source": [
    "# Pandas\n",
    "\n",
    "Pandas는 python module로 row와 column으로 이루어진 tabular data를 다룰 때 사용한다.\n",
    "Tabular data는 SQL이나 Excel과 비슷한 기능을 가지지만 Pandas는 거기에 python의 유용한 기능까지 추가로 제공한다.\n",
    "\n",
    "## Creating, Loading and Selecting Data\n",
    "\n",
    "pandas를 사용하기 위해서는 먼저 python file에 import해 주어야 한다.\n",
    "\n",
    "\n"
   ]
  },
  {
   "cell_type": "code",
   "execution_count": 1,
   "metadata": {},
   "outputs": [],
   "source": [
    "import pandas as pd"
   ]
  },
  {
   "cell_type": "markdown",
   "metadata": {},
   "source": [
    "tabular data는 두 가지 방법으로 얻을 수 있는데 한 가지는 직접 table을 만드는 것이고 다른 한 가지는 csv(Comma Separated Variables)파일을 load하는 방법이다.\n"
   ]
  },
  {
   "cell_type": "code",
   "execution_count": 4,
   "metadata": {},
   "outputs": [
    {
     "data": {
      "text/plain": [
       "'\\n     name  heights\\n0     Tom      182\\n1  Ronald      165\\n2   Frank      190\\n'"
      ]
     },
     "execution_count": 4,
     "metadata": {},
     "output_type": "execute_result"
    }
   ],
   "source": [
    "heights = pd.DataFrame({\n",
    "    'name': ['Tom', 'Ronald', 'Frank'],\n",
    "    'heights': [182, 165, 190]\n",
    "})\n",
    "'''\n",
    "     name  heights\n",
    "0     Tom      182\n",
    "1  Ronald      165\n",
    "2   Frank      190\n",
    "'''"
   ]
  },
  {
   "cell_type": "markdown",
   "metadata": {},
   "source": [
    "DataFrame은 row와 column으로 되어있으며, column은 각각마다 string으로 된 이름을 가지고 있다. \n",
    "Row는 각각 integer로 된 index를 가지고 있다. \n",
    "DataFrames은 string, integer 뿐만 아니라 floats, tuple등 다양한 데이터를 store할 수 있다.\n"
   ]
  },
  {
   "cell_type": "code",
   "execution_count": 11,
   "metadata": {},
   "outputs": [
    {
     "name": "stdout",
     "output_type": "stream",
     "text": [
      "        coffee  price($)  calories(kcal)\n",
      "0     Espresso       1.5              10\n",
      "1    Americano       2.5              15\n",
      "2  Caffe Latte       3.0             100\n",
      "3    Cappucino       3.0             130\n",
      "<class 'pandas.core.frame.DataFrame'>\n",
      "RangeIndex: 4 entries, 0 to 3\n",
      "Data columns (total 3 columns):\n",
      "coffee            4 non-null object\n",
      "price($)          4 non-null float64\n",
      "calories(kcal)    4 non-null int64\n",
      "dtypes: float64(1), int64(1), object(1)\n",
      "memory usage: 224.0+ bytes\n",
      "None\n"
     ]
    }
   ],
   "source": [
    "menus = pd.read_csv('menus.csv')\n",
    "print(menus)\n",
    "print(menus.info())"
   ]
  },
  {
   "cell_type": "markdown",
   "metadata": {},
   "source": [
    "Column을 선택할 때는 dot convention 또는 ['COLUMN_NAME']의 방법으로 선택한다.\n",
    "하나의 column을 선택할 때 그 result를 **Series**라고 한다.\n"
   ]
  },
  {
   "cell_type": "code",
   "execution_count": 13,
   "metadata": {},
   "outputs": [
    {
     "name": "stdout",
     "output_type": "stream",
     "text": [
      "<class 'pandas.core.series.Series'>\n"
     ]
    }
   ],
   "source": [
    "print(type(menus.coffee))"
   ]
  },
  {
   "cell_type": "markdown",
   "metadata": {},
   "source": [
    "한편, row를 select할 때는 `iloc`라는 method를 사용한다.\n"
   ]
  },
  {
   "cell_type": "code",
   "execution_count": 17,
   "metadata": {},
   "outputs": [
    {
     "name": "stdout",
     "output_type": "stream",
     "text": [
      "<class 'pandas.core.series.Series'>\n"
     ]
    }
   ],
   "source": [
    "americano = menus.iloc[1]\n",
    "three_coffees = menus.iloc[:3]\n",
    "\n",
    "'''\n",
    "        coffee  price($)  calories(kcal)\n",
    "0     Espresso       1.5              10\n",
    "1    Americano       2.5              15\n",
    "2  Caffe Latte       3.0             100\n",
    "'''\n",
    "\n",
    "print(type(americano))"
   ]
  },
  {
   "cell_type": "markdown",
   "metadata": {},
   "source": [
    "index를 통해 row를 선택하는 경우도 물론 있겠지만, 일반적으로는 logic을 만족하는 row를 선택하는 경우가 더 많을 것이다.\n",
    "그 때는 `df[df.MyColumnName == desired_column_value]` 의 syntax를 사용하며 `&`, `|`의 논리연산자를 이용하여 다수의 condition을 조합할 수 있다."
   ]
  },
  {
   "cell_type": "code",
   "execution_count": 28,
   "metadata": {},
   "outputs": [
    {
     "data": {
      "text/plain": [
       "'\\n    coffee  price($)  calories(kcal)\\n0  Espresso       1.5              10\\n'"
      ]
     },
     "execution_count": 28,
     "metadata": {},
     "output_type": "execute_result"
    }
   ],
   "source": [
    "light_coffee = menus[menus['calories(kcal)'] < 50]\n",
    "'''\n",
    "      coffee  price($)  calories(kcal)\n",
    "0   Espresso       1.5              10\n",
    "1  Americano       2.5              15\n",
    "'''\n",
    "\n",
    "light_and_cheap_coffee = menus[(menus['calories(kcal)'] < 50) &\\\n",
    "                              (menus['price($)'] < 2.0)]\n",
    "'''\n",
    "    coffee  price($)  calories(kcal)\n",
    "0  Espresso       1.5              10\n",
    "'''"
   ]
  },
  {
   "cell_type": "markdown",
   "metadata": {},
   "source": []
  }
 ],
 "metadata": {
  "kernelspec": {
   "display_name": "Python 3",
   "language": "python",
   "name": "python3"
  },
  "language_info": {
   "codemirror_mode": {
    "name": "ipython",
    "version": 3
   },
   "file_extension": ".py",
   "mimetype": "text/x-python",
   "name": "python",
   "nbconvert_exporter": "python",
   "pygments_lexer": "ipython3",
   "version": "3.7.1"
  }
 },
 "nbformat": 4,
 "nbformat_minor": 2
}
