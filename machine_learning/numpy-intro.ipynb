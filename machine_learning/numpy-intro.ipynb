{
 "cells": [
  {
   "cell_type": "markdown",
   "metadata": {},
   "source": [
    "# NumPy\n",
    "\n",
    "NumPy which stands for Numerical Python is a powerful Python module. NumPy has many uses such as\n",
    "- Efficiently working with many numbers at once\n",
    "- Generating random numbers\n",
    "- Performing many different numerical functions"
   ]
  },
  {
   "cell_type": "code",
   "execution_count": 1,
   "metadata": {},
   "outputs": [],
   "source": [
    "# Before using NumPy, importing is needed\n",
    "import numpy as np"
   ]
  },
  {
   "cell_type": "markdown",
   "metadata": {},
   "source": [
    "## NumPy Arrays\n",
    "\n",
    "NumPy array is a special type of list. It's a data structure that organize multiple items(strings, numbers, or other arrays). However, arrays are most powerful when they are used to store numbers. It's because arrays give us special ways of performing mathematical operations."
   ]
  },
  {
   "cell_type": "code",
   "execution_count": 2,
   "metadata": {},
   "outputs": [],
   "source": [
    "midterm_scores = np.array([92 , 94 , 99, 87 , 81])"
   ]
  },
  {
   "cell_type": "markdown",
   "metadata": {},
   "source": [
    "2D arrays are also available in NumPy."
   ]
  },
  {
   "cell_type": "code",
   "execution_count": 7,
   "metadata": {
    "scrolled": true
   },
   "outputs": [
    {
     "name": "stdout",
     "output_type": "stream",
     "text": [
      "[[92 94 99 87 81]\n",
      " [98 90 87 91 93]]\n"
     ]
    }
   ],
   "source": [
    "final_scores = np.array([98, 90, 87, 91, 93])\n",
    "scores = np.array([\n",
    "    midterm_scores,\n",
    "    final_scores\n",
    "])\n",
    "print(scores)"
   ]
  },
  {
   "cell_type": "markdown",
   "metadata": {},
   "source": [
    "NumPy arrays support element-wise mathmatical and logical operations."
   ]
  },
  {
   "cell_type": "code",
   "execution_count": 5,
   "metadata": {},
   "outputs": [
    {
     "name": "stdout",
     "output_type": "stream",
     "text": [
      "[99 98]\n"
     ]
    }
   ],
   "source": [
    "sum_scores = midterm_scores + final_scores\n",
    "# [190, 184, 186, 178, 174]\n",
    "well_done = scores[scores > 95]\n",
    "# [99, 98]\n",
    "print(well_done)"
   ]
  }
 ],
 "metadata": {
  "kernelspec": {
   "display_name": "Python 3",
   "language": "python",
   "name": "python3"
  },
  "language_info": {
   "codemirror_mode": {
    "name": "ipython",
    "version": 3
   },
   "file_extension": ".py",
   "mimetype": "text/x-python",
   "name": "python",
   "nbconvert_exporter": "python",
   "pygments_lexer": "ipython3",
   "version": "3.7.1"
  }
 },
 "nbformat": 4,
 "nbformat_minor": 2
}
