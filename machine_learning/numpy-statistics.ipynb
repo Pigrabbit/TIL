{
 "cells": [
  {
   "cell_type": "markdown",
   "metadata": {},
   "source": [
    "# Statistics with NumPy\n",
    "\n",
    "NumPy를 이용해서 data analyzing도 가능하다. NumPy의 method를 활용하여 평균, 중간값, 표준편차를 구할 수도 있다.\n",
    "\n",
    "## Mean\n",
    "\n",
    "NumPy method mean을 이용하면 array의 평균을 구할 수 있다."
   ]
  },
  {
   "cell_type": "code",
   "execution_count": 5,
   "metadata": {},
   "outputs": [
    {
     "name": "stdout",
     "output_type": "stream",
     "text": [
      "30.2\n"
     ]
    }
   ],
   "source": [
    "import numpy as np\n",
    "\n",
    "temperatures = np.array([32, 34, 32, 30, 26, 28, 28, 30, 32, 30])\n",
    "mean_temperature = np.mean(temperatures)\n",
    "# 30.2\n",
    "print(mean_temperature)"
   ]
  },
  {
   "cell_type": "markdown",
   "metadata": {},
   "source": [
    "뿐만 아니라 2D array의 row별, column별 평균도 axis 값을 통해 구분하여 구할 수도 있다."
   ]
  },
  {
   "cell_type": "code",
   "execution_count": 6,
   "metadata": {},
   "outputs": [
    {
     "name": "stdout",
     "output_type": "stream",
     "text": [
      "[0.75 0.5  0.5  0.25]\n",
      "[0.5 0.5 0.5 0.5]\n"
     ]
    }
   ],
   "source": [
    "# assume that you toss a four coins four times\n",
    "# let head = 1 and tail = 0\n",
    "coin_toss = np.array([\n",
    "    [1 ,1, 0, 1],\n",
    "    [0, 0, 1, 1],\n",
    "    [0, 1, 1, 0],\n",
    "    [1, 0, 0, 0]\n",
    "])\n",
    "\n",
    "coin_toss_row_mean = np.mean(coin_toss, axis = 1)\n",
    "# [0.75, 0.5, 0.5, 0.25]\n",
    "coin_toss_column_mean = np.mean(coin_toss, axis = 0)\n",
    "# [ 0.5, 0.5, 0.5, 0.5]\n",
    "\n",
    "print(coin_toss_row_mean)\n",
    "print(coin_toss_column_mean)"
   ]
  },
  {
   "cell_type": "markdown",
   "metadata": {},
   "source": [
    "## Outliers\n",
    "\n",
    "평균은 data set의 값에 의해 크게 영향을 받는다. 그렇기 떄문에 dataset의 majority에서 벗어나는 값들을 별도로 처리할 필요가 있다. 이들을 outliers라고 하며 data set을 sorting 했을때 앞쪽과 뒷쪽 끝부분을 확인하면 outlier들을 발견할 수 있다.\n",
    "\n",
    "## Percentiles\n",
    "\n",
    "NumPy에서 percentile method에 array와 구하고자 하는 백분위의 숫자를 parameter로 넘기면 해당하는 data를 얻을 수 있다.\n",
    "\n",
    "25th percentile, 50th percentile, 75th percentile은 각각 first quartile, median, third quartile이라고 부른다. 또 first quartile과 third quartile의 차이를 interquartile range라고 한다. 이 range가 data set이 얼마나 흩어져 분포되어 있는지 정보를 준다. rage가 넓을수록 data가 소하게 분포되어 있다고 할 수 있다."
   ]
  },
  {
   "cell_type": "code",
   "execution_count": 11,
   "metadata": {},
   "outputs": [
    {
     "name": "stdout",
     "output_type": "stream",
     "text": [
      "3.5\n"
     ]
    }
   ],
   "source": [
    "first_quartile = np.percentile(temperatures, 25)\n",
    "median = np.percentile(temperatures, 50)\n",
    "# which is equal to np.median(temperatures)\n",
    "third_quartile = np.percentile(temperatures, 75)\n",
    "\n",
    "interquartile_range = third_quartile - first_quartile\n",
    "print(interquartile_range)"
   ]
  },
  {
   "cell_type": "markdown",
   "metadata": {},
   "source": []
  }
 ],
 "metadata": {
  "kernelspec": {
   "display_name": "Python 3",
   "language": "python",
   "name": "python3"
  },
  "language_info": {
   "codemirror_mode": {
    "name": "ipython",
    "version": 3
   },
   "file_extension": ".py",
   "mimetype": "text/x-python",
   "name": "python",
   "nbconvert_exporter": "python",
   "pygments_lexer": "ipython3",
   "version": "3.7.1"
  }
 },
 "nbformat": 4,
 "nbformat_minor": 2
}
